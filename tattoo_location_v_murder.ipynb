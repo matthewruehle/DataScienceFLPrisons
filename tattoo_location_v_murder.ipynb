{
 "cells": [
  {
   "cell_type": "code",
   "execution_count": 9,
   "metadata": {
    "collapsed": false
   },
   "outputs": [],
   "source": [
    "# Does what it says on the tin.\n",
    "# Note that it takes a while to read all the mdb thingies.\n",
    "# To run pandas_access successfully, install mdbtools through whatever you need.\n",
    "# -Matt\n",
    "\n",
    "import pandas\n",
    "import numpy as np\n",
    "import pandas_access\n",
    "\n",
    "DATASET = \"./FDOC_January_2017.mdb\"\n",
    "\n"
   ]
  },
  {
   "cell_type": "markdown",
   "metadata": {},
   "source": [
    "Inmate_release_root : Basic inmate information on inmates released since 10-1-1997\n",
    "\n",
    "Inmate_release_aliases: Aliases for these released inmates\n",
    "\n",
    "Inmate_release_offenses_CPS: Current prison offenses for these released inmates\n",
    "\n",
    "Inmate_release_offenses_prpr: Prior prison offenses for these released inmates\n",
    "\n",
    "Inmate_release_residence: Release plan address for these released inmates\n",
    "\n",
    "Inmate_release_detainers: Detainers for these released inmates\n",
    "\n",
    "Inmate_release_incarhist: Incarceration history for these released inmates\n",
    "\n",
    "Inmate_release_scarsmarks: Tattoos for these released inmates\n",
    "\n",
    "Inmate_active_root:  Basic inmate information on active inmates\n",
    "\n",
    "Inmate_active_aliases: Aliases for these active inmates\n",
    "\n",
    "Inmate_active_offenses_CPS: Current prison offenses for these active inmates\n",
    "\n",
    "Inmate_active_offenses_prpr: Prior prison offenses for these active inmates\n",
    "\n",
    "Inmate_active_detainers: Detainers for these active inmates\n",
    "\n",
    "Inmate_active_incarhist: Incarceration history for these active inmates\n",
    "\n",
    "Inmate_active_scarsmarks: Tattoos for these active inmates\n",
    "\n",
    "Offender_root: Basic offender information on current community supervision offenders\n",
    "\n",
    "Offender_aliases: Aliases for offenders\n",
    "\n",
    "Offender_offenses_CCS: Current community supervision offenses for offenders\n",
    "\n",
    "Offender_residence: Most recent address (excluding confidential addresses) for offenders\n",
    "\n",
    "\n",
    "All sealed and expunged records have been deleted from the datasets. No confidential data is included."
   ]
  },
  {
   "cell_type": "code",
   "execution_count": 10,
   "metadata": {
    "collapsed": false
   },
   "outputs": [
    {
     "name": "stdout",
     "output_type": "stream",
     "text": [
      "CONTENTS\n",
      "INMATE_RELEASE_ROOT\n",
      "INMATE_RELEASE_ALIASES\n",
      "INMATE_RELEASE_OFFENSES_CPS\n",
      "INMATE_RELEASE_OFFENSES_prpr\n",
      "INMATE_RELEASE_RESIDENCE\n",
      "INMATE_RELEASE_DETAINERS\n",
      "INMATE_RELEASE_INCARHIST\n",
      "INMATE_RELEASE_SCARSMARKS\n",
      "OFFENDER_ROOT\n",
      "OFFENDER_ALIASES\n",
      "OFFENDER_OFFENSES_CCS\n",
      "OFFENDER_RESIDENCE\n",
      "INMATE_ACTIVE_ROOT\n",
      "INMATE_ACTIVE_ALIASES\n",
      "INMATE_ACTIVE_OFFENSES_CPS\n",
      "INMATE_ACTIVE_OFFENSES_prpr\n",
      "INMATE_ACTIVE_DETAINERS\n",
      "INMATE_ACTIVE_INCARHIST\n",
      "INMATE_ACTIVE_SCARSMARKS\n"
     ]
    }
   ],
   "source": [
    "table_list = []\n",
    "for tablename in pandas_access.list_tables(DATASET):\n",
    "    print(tablename)\n",
    "    table_list.append(tablename)\n",
    "\n",
    "tables_dict = {}\n",
    "\n",
    "for table in table_list: #doing more makes it take forever.\n",
    "    tables_dict[table] = pandas_access.read_table(DATASET, table, low_memory = False)\n",
    "\n"
   ]
  },
  {
   "cell_type": "code",
   "execution_count": 11,
   "metadata": {
    "collapsed": false
   },
   "outputs": [
    {
     "data": {
      "text/plain": [
       "[u'INMATE_RELEASE_INCARHIST',\n",
       " u'INMATE_ACTIVE_ROOT',\n",
       " u'INMATE_RELEASE_DETAINERS',\n",
       " u'OFFENDER_OFFENSES_CCS',\n",
       " u'INMATE_RELEASE_OFFENSES_CPS',\n",
       " u'INMATE_RELEASE_RESIDENCE',\n",
       " u'INMATE_RELEASE_SCARSMARKS',\n",
       " u'INMATE_ACTIVE_ALIASES',\n",
       " u'INMATE_ACTIVE_DETAINERS',\n",
       " u'INMATE_RELEASE_OFFENSES_prpr',\n",
       " u'INMATE_ACTIVE_SCARSMARKS',\n",
       " u'OFFENDER_ROOT',\n",
       " u'OFFENDER_RESIDENCE',\n",
       " u'INMATE_ACTIVE_OFFENSES_prpr',\n",
       " u'OFFENDER_ALIASES',\n",
       " u'INMATE_RELEASE_ROOT',\n",
       " u'INMATE_ACTIVE_INCARHIST',\n",
       " u'INMATE_ACTIVE_OFFENSES_CPS',\n",
       " u'CONTENTS',\n",
       " u'INMATE_RELEASE_ALIASES']"
      ]
     },
     "execution_count": 11,
     "metadata": {},
     "output_type": "execute_result"
    }
   ],
   "source": [
    "tables_dict.keys()"
   ]
  },
  {
   "cell_type": "code",
   "execution_count": 12,
   "metadata": {
    "collapsed": false
   },
   "outputs": [],
   "source": [
    "reoffend_with_scars = []\n",
    "no_reoffend_with_scars = []\n",
    "reoffend_without_scars = []\n",
    "no_reoffend_without_scars = []"
   ]
  },
  {
   "cell_type": "code",
   "execution_count": 24,
   "metadata": {
    "collapsed": false
   },
   "outputs": [],
   "source": [
    "# tables_dict[\"INMATE_ACTIVE_SCARSMARKS\"] # check if multiple different lastnames and such?..."
   ]
  },
  {
   "cell_type": "code",
   "execution_count": 14,
   "metadata": {
    "collapsed": true
   },
   "outputs": [],
   "source": [
    "id_set = set()\n",
    "names_hist = {}\n",
    "\n",
    "\n",
    "for index, row in tables_dict[\"OFFENDER_ALIASES\"].iterrows():\n",
    "    if row.DCNumber not in id_set:\n",
    "        id_set.add(row.DCNumber)\n",
    "        names_hist[row.FirstName] = names_hist.get(row.FirstName, default=0) + 1"
   ]
  },
  {
   "cell_type": "code",
   "execution_count": 42,
   "metadata": {
    "collapsed": false
   },
   "outputs": [],
   "source": [
    "dcnumber_to_scarsmarks = {}\n",
    "for index, row in tables_dict[\"INMATE_ACTIVE_SCARSMARKS\"].iterrows():\n",
    "    this_tup = (row.Location, row.Description)\n",
    "    if row.Type == \"TATTOO\":\n",
    "        if row.DCNumber in dcnumber_to_scarsmarks:\n",
    "            dcnumber_to_scarsmarks[row.DCNumber].append(this_tup)\n",
    "        else:\n",
    "            dcnumber_to_scarsmarks[row.DCNumber] = [this_tup]\n"
   ]
  },
  {
   "cell_type": "code",
   "execution_count": 45,
   "metadata": {
    "collapsed": false
   },
   "outputs": [],
   "source": [
    "# sorted(names_hist.items(), key=lambda x: x[1], reverse=True) #perhaps compare to overall name frequency?\n",
    "# sm = tables_dict[\"INMATE_ACTIVE_SCARSMARKS\"]\n",
    "# sm[sm.Location == \"HEAD\"]\n",
    "# dcnumber_to_scarsmarks H12939"
   ]
  },
  {
   "cell_type": "code",
   "execution_count": 46,
   "metadata": {
    "collapsed": false
   },
   "outputs": [],
   "source": [
    "dcnumber_to_offenses = {}\n",
    "for index, row in tables_dict[\"INMATE_ACTIVE_OFFENSES_CPS\"].iterrows(): #current sentence\n",
    "    if row.DCNumber in dcnumber_to_offenses:\n",
    "        dcnumber_to_offenses[row.DCNumber].append(row.adjudicationcharge_descr)\n",
    "    else:\n",
    "        dcnumber_to_offenses[row.DCNumber] = [row.adjudicationcharge_descr]"
   ]
  },
  {
   "cell_type": "code",
   "execution_count": 49,
   "metadata": {
    "collapsed": false
   },
   "outputs": [
    {
     "data": {
      "text/plain": [
       "['SELL/ETC/COC/ETC 1K FT.EDU',\n",
       " 'POSS.CONTROL.SUBS/OTHER',\n",
       " 'FEL/DELI W/GUN/CONC WPN/AMMO',\n",
       " 'POSSESS MDMA',\n",
       " 'POSS.MARIJUANA OVR 20 GRAMS']"
      ]
     },
     "execution_count": 49,
     "metadata": {},
     "output_type": "execute_result"
    }
   ],
   "source": [
    "dcnumber_to_offenses[dcnumber_to_scarsmarks.keys()[1]]"
   ]
  },
  {
   "cell_type": "code",
   "execution_count": 64,
   "metadata": {
    "collapsed": true
   },
   "outputs": [],
   "source": [
    "def contains_string(target_string, some_list, substring=True):\n",
    "    if substring:\n",
    "        for entry in some_list:\n",
    "#             print entry, '\\t', target_string, '\\t', (target_string in entry)\n",
    "            if (target_string in entry):\n",
    "                return True\n",
    "    else:\n",
    "        for entry in some_list:\n",
    "            if entry == target_string:\n",
    "                return True\n",
    "    return False\n",
    "\n",
    "def contains_value(target_value, some_list):\n",
    "    for entry in some_list:\n",
    "        if (target_value == entry) or (target_value in entry): #not sure if this is the best format.\n",
    "            return True\n",
    "    return False\n",
    "\n",
    "    "
   ]
  },
  {
   "cell_type": "code",
   "execution_count": 67,
   "metadata": {
    "collapsed": false
   },
   "outputs": [],
   "source": [
    "murder_head = []\n",
    "murder_nohead = []\n",
    "nomurder_head = []\n",
    "nomurder_nohead = []\n",
    "\n",
    "for dcn in dcnumber_to_offenses.keys():\n",
    "    sm = dcnumber_to_scarsmarks.get(dcn, [])\n",
    "    offs = dcnumber_to_offenses[dcn]\n",
    "    has_headneck = ( contains_value(\"HEAD\", sm) or contains_value(\"FACE\", sm) or contains_value(\"NECK\", sm) )\n",
    "    has_murder = contains_string(\"MUR\", offs) # need to make sure all mur = murder and vice versa.\n",
    "    if has_headneck:\n",
    "        if has_murder:\n",
    "            murder_head.append(dcn)\n",
    "        else:\n",
    "            nomurder_head.append(dcn)\n",
    "    else:\n",
    "        if has_murder:\n",
    "            murder_nohead.append(dcn)\n",
    "        else:\n",
    "            nomurder_nohead.append(dcn)"
   ]
  },
  {
   "cell_type": "code",
   "execution_count": 98,
   "metadata": {
    "collapsed": false
   },
   "outputs": [],
   "source": [
    "number_head = len(murder_head) + len(nomurder_head)\n",
    "number_nohead = len(murder_nohead) + len(nomurder_nohead)\n",
    "\n",
    "prob_murder_head = len(murder_head) / float(number_head)\n",
    "prob_murder_nohead = len(murder_nohead) / float(number_nohead)"
   ]
  },
  {
   "cell_type": "code",
   "execution_count": 99,
   "metadata": {
    "collapsed": false
   },
   "outputs": [
    {
     "data": {
      "text/plain": [
       "0.11210864253650775"
      ]
     },
     "execution_count": 99,
     "metadata": {},
     "output_type": "execute_result"
    }
   ],
   "source": [
    "prob_murder_head"
   ]
  },
  {
   "cell_type": "code",
   "execution_count": 100,
   "metadata": {
    "collapsed": false
   },
   "outputs": [
    {
     "data": {
      "text/plain": [
       "0.15315853658536585"
      ]
     },
     "execution_count": 100,
     "metadata": {},
     "output_type": "execute_result"
    }
   ],
   "source": [
    "prob_murder_nohead"
   ]
  },
  {
   "cell_type": "code",
   "execution_count": 102,
   "metadata": {
    "collapsed": false
   },
   "outputs": [
    {
     "name": "stdout",
     "output_type": "stream",
     "text": [
      "The probability that an inmate has committed or attempted murder is 36.6% greater if they *don't* have a head/face/neck tattoo\n"
     ]
    }
   ],
   "source": [
    "t_percent = (100 * ( (prob_murder_nohead / prob_murder_head) - 1))\n",
    "do_or_dont = (prob_murder_nohead > prob_murder_head)\n",
    "if do_or_dont:\n",
    "    t_percent = (100 * ( (prob_murder_nohead / prob_murder_head) - 1))\n",
    "    t_comparison = \"*don't*\"\n",
    "else:\n",
    "    t_percent = (100 * ( (prob_murder_head / prob_murder_nohead) - 1))\n",
    "    t_comparison = \"*do*\"\n",
    "\n",
    "\n",
    "tstring = (\"The probability that an inmate has committed or attempted murder \"\n",
    "            \"is %2.1f%% greater if they %s have a head/face/neck tattoo\" % (t_percent,t_comparison))\n",
    "print(tstring)"
   ]
  },
  {
   "cell_type": "code",
   "execution_count": null,
   "metadata": {
    "collapsed": false
   },
   "outputs": [],
   "source": []
  },
  {
   "cell_type": "code",
   "execution_count": null,
   "metadata": {
    "collapsed": true
   },
   "outputs": [],
   "source": []
  },
  {
   "cell_type": "code",
   "execution_count": null,
   "metadata": {
    "collapsed": true
   },
   "outputs": [],
   "source": []
  }
 ],
 "metadata": {
  "kernelspec": {
   "display_name": "Python 2",
   "language": "python",
   "name": "python2"
  },
  "language_info": {
   "codemirror_mode": {
    "name": "ipython",
    "version": 2
   },
   "file_extension": ".py",
   "mimetype": "text/x-python",
   "name": "python",
   "nbconvert_exporter": "python",
   "pygments_lexer": "ipython2",
   "version": "2.7.6"
  }
 },
 "nbformat": 4,
 "nbformat_minor": 0
}
