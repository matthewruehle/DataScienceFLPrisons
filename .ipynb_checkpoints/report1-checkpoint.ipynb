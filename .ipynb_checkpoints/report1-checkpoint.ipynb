{
 "cells": [
  {
   "cell_type": "markdown",
   "metadata": {},
   "source": [
    "## Florida Department of Corrections Inmate Crime and Tattoo Database\n",
    "#### Joey, Matt, Sean"
   ]
  },
  {
   "cell_type": "markdown",
   "metadata": {},
   "source": [
    "### 1, 2. The Dataset, Downloaded"
   ]
  },
  {
   "cell_type": "code",
   "execution_count": 1,
   "metadata": {
    "collapsed": false
   },
   "outputs": [],
   "source": [
    "import numpy as np\n",
    "import matplotlib\n",
    "import matplotlib.patches as mpatches\n",
    "import matplotlib.pyplot as plt\n",
    "import pandas\n",
    "import pandas_access\n",
    "%matplotlib inline\n",
    "DATASET = \"./FDOC_January_2017.mdb\" # From http://www.dc.state.fl.us/pub/obis_request.html \n",
    "                                    # ~1.3 gb; publicly available data."
   ]
  },
  {
   "cell_type": "markdown",
   "metadata": {},
   "source": [
    "### 3. Loading into a DF"
   ]
  },
  {
   "cell_type": "code",
   "execution_count": 2,
   "metadata": {
    "collapsed": false
   },
   "outputs": [],
   "source": [
    "dfs = {}\n",
    "for tablename in pandas_access.list_tables(DATASET):\n",
    "    dfs[tablename] = pandas_access.read_table(DATASET, tablename, low_memory = False)"
   ]
  },
  {
   "cell_type": "markdown",
   "metadata": {},
   "source": [
    "### 4. Identifying Variables of Interest"
   ]
  },
  {
   "cell_type": "code",
   "execution_count": 3,
   "metadata": {
    "collapsed": false,
    "scrolled": true
   },
   "outputs": [
    {
     "data": {
      "text/plain": [
       "[u'INMATE_RELEASE_INCARHIST',\n",
       " u'INMATE_ACTIVE_ROOT',\n",
       " u'INMATE_RELEASE_DETAINERS',\n",
       " u'OFFENDER_OFFENSES_CCS',\n",
       " u'INMATE_RELEASE_OFFENSES_CPS',\n",
       " u'INMATE_RELEASE_RESIDENCE',\n",
       " u'INMATE_RELEASE_SCARSMARKS',\n",
       " u'INMATE_ACTIVE_ALIASES',\n",
       " u'INMATE_ACTIVE_DETAINERS',\n",
       " u'INMATE_RELEASE_OFFENSES_prpr',\n",
       " u'INMATE_ACTIVE_SCARSMARKS',\n",
       " u'OFFENDER_ROOT',\n",
       " u'OFFENDER_RESIDENCE',\n",
       " u'INMATE_ACTIVE_OFFENSES_prpr',\n",
       " u'OFFENDER_ALIASES',\n",
       " u'INMATE_RELEASE_ROOT',\n",
       " u'INMATE_ACTIVE_INCARHIST',\n",
       " u'INMATE_ACTIVE_OFFENSES_CPS',\n",
       " u'CONTENTS',\n",
       " u'INMATE_RELEASE_ALIASES']"
      ]
     },
     "execution_count": 3,
     "metadata": {},
     "output_type": "execute_result"
    }
   ],
   "source": [
    "dfs.keys()"
   ]
  },
  {
   "cell_type": "markdown",
   "metadata": {},
   "source": [
    "We initially planned to duplicate the experiment that linked tattoos and crimes, so we'll look at `SCARSMARKS` and `OFFENSES`."
   ]
  },
  {
   "cell_type": "markdown",
   "metadata": {},
   "source": [
    "### 5. Validation and Plotting"
   ]
  },
  {
   "cell_type": "code",
   "execution_count": 4,
   "metadata": {
    "collapsed": true
   },
   "outputs": [],
   "source": [
    "# http://www.dc.state.fl.us/pub/obis_request.html\n",
    "# http://cdn.static-economist.com/sites/default/files/images/print-edition/20161224_XMC337_0.png"
   ]
  },
  {
   "cell_type": "markdown",
   "metadata": {},
   "source": [
    "First, let's look at the number and types of tattoos:"
   ]
  },
  {
   "cell_type": "code",
   "execution_count": 5,
   "metadata": {
    "collapsed": false
   },
   "outputs": [
    {
     "data": {
      "text/plain": [
       "1266840"
      ]
     },
     "execution_count": 5,
     "metadata": {},
     "output_type": "execute_result"
    }
   ],
   "source": [
    "tattoos = pandas.concat((dfs[\"INMATE_ACTIVE_SCARSMARKS\"], dfs[\"INMATE_RELEASE_SCARSMARKS\"]))\n",
    "tattoo_descriptions = tattoos.Description\n",
    "len(tattoo_descriptions)"
   ]
  },
  {
   "cell_type": "code",
   "execution_count": 6,
   "metadata": {
    "collapsed": false
   },
   "outputs": [
    {
     "name": "stdout",
     "output_type": "stream",
     "text": [
      "none                       0\n",
      "christian             138926\n",
      "three dots              2753\n",
      "satanic                18522\n",
      "tear drop               7946\n",
      "laugh now, cry later    4397\n",
      "guns                   21472\n",
      "white supremacist       6745\n",
      "face                   71814\n"
     ]
    }
   ],
   "source": [
    "tattoo_types = {\n",
    "    \"face\": [\"FACE\", \"HEAD\", \"CHEEK\", \"CHIN\"],\n",
    "    \"white supremacist\": [\"WHITE\", \"ARYAN\", \"NAZI\", \"SWASTIKA\", \"14\", \"88\"],\n",
    "    \"three dots\": [\"3 DOTS\", \"THREE DOTS\", \"THREEDOTS\"],\n",
    "    \"tear drop\": [\"TEAR DROP\", \"TEARDROP\"],\n",
    "    \"guns\": [\"GUN\", \"RIFLE\", \"BULLET\"],\n",
    "    \"laugh now, cry later\": [\"LAUGH NOW\", \"CRY LATER\", \"LAUGHNOW\", \"CRYLATER\"],\n",
    "    \"christian\": [\"CROSS\", \"HOLY\", \"ANGEL\", \"JESUS\", \"PRAY\"],\n",
    "    \"satanic\": [\"PENTA\", \"DEVIL\", \"DEMON\", \"BAPHOMET\"],\n",
    "    \"none\": [\"nan\", \"NaN\"]\n",
    "}\n",
    "for category, keywords in tattoo_types.items():\n",
    "    counts = tattoo_descriptions.str.contains(\"|\".join(keywords)).value_counts()\n",
    "    count = counts[True] if True in counts else 0\n",
    "    print(\"{0: <20} {1: >7}\".format(category, count))"
   ]
  },
  {
   "cell_type": "markdown",
   "metadata": {},
   "source": [
    "Next, let's look at the number and types of crimes:"
   ]
  },
  {
   "cell_type": "code",
   "execution_count": 7,
   "metadata": {
    "collapsed": false
   },
   "outputs": [
    {
     "data": {
      "text/plain": [
       "2385493"
      ]
     },
     "execution_count": 7,
     "metadata": {},
     "output_type": "execute_result"
    }
   ],
   "source": [
    "crimes = pandas.concat((dfs[\"INMATE_ACTIVE_OFFENSES_prpr\"], dfs[\"INMATE_ACTIVE_OFFENSES_CPS\"], dfs[\"INMATE_RELEASE_OFFENSES_prpr\"], dfs[\"INMATE_RELEASE_OFFENSES_CPS\"]))\n",
    "crime_descriptions = crimes.adjudicationcharge_descr\n",
    "len(crime_descriptions)"
   ]
  },
  {
   "cell_type": "code",
   "execution_count": 8,
   "metadata": {
    "collapsed": false
   },
   "outputs": [
    {
     "name": "stdout",
     "output_type": "stream",
     "text": [
      "drugs   427856\n",
      "assault 206298\n",
      "murder   33311\n",
      "robbery 140578\n",
      "theft   720649\n"
     ]
    }
   ],
   "source": [
    "crime_types = {\n",
    "    \"drugs\": [\"DRUG\", \"COCAINE\", \"SUBS\", \"MARIJUANA\"],\n",
    "    \"theft\": [\"BURG\", \"THEFT\", \"THFT\"],\n",
    "    \"robbery\": [\"ROBB\"],\n",
    "    \"assault\": [\"ASLT\", \"ASSLT\", \"ASSAULT\", \"BATT\"],\n",
    "    \"murder\": [\"MUR\", \"MRDR\"]\n",
    "}\n",
    "for category, keywords in crime_types.items():\n",
    "    counts = crime_descriptions.str.contains(\"|\".join(keywords)).value_counts()\n",
    "    count = counts[True] if True in counts else 0\n",
    "    print(\"{0: <7} {1: >6}\".format(category, count))"
   ]
  },
  {
   "cell_type": "markdown",
   "metadata": {},
   "source": [
    "Now, let's group them together and use the totals in each category to calculate a ratio:"
   ]
  },
  {
   "cell_type": "code",
   "execution_count": 9,
   "metadata": {
    "collapsed": false
   },
   "outputs": [],
   "source": [
    "tattoos_crimes = pandas.merge(tattoos, crimes, \"outer\", \"DCNumber\")\n",
    "tattoos_crimes.rename(index = str, columns = {\n",
    "        \"Description\": \"tattoos\",\n",
    "        \"adjudicationcharge_descr\": \"crimes\"\n",
    "    }, inplace = True)"
   ]
  },
  {
   "cell_type": "code",
   "execution_count": 10,
   "metadata": {
    "collapsed": false
   },
   "outputs": [],
   "source": [
    "grouped_tattoos = tattoos_crimes.tattoos.groupby(tattoos_crimes.DCNumber).apply(lambda x: \",\".join(set(x.astype(str))))\n",
    "grouped_crimes = tattoos_crimes.crimes.groupby(tattoos_crimes.DCNumber).apply(lambda x: \",\".join(set(x.astype(str))))\n",
    "tattoos_and_crimes = pandas.concat([grouped_tattoos, grouped_crimes], axis = 1).reset_index()"
   ]
  },
  {
   "cell_type": "code",
   "execution_count": 11,
   "metadata": {
    "collapsed": false
   },
   "outputs": [
    {
     "data": {
      "text/plain": [
       "{'christian': 98267,\n",
       " 'face': 51337,\n",
       " 'guns': 17048,\n",
       " 'laugh now, cry later': 3860,\n",
       " 'none': 149392,\n",
       " 'satanic': 14919,\n",
       " 'tear drop': 7446,\n",
       " 'three dots': 2539,\n",
       " 'white supremacist': 5553}"
      ]
     },
     "execution_count": 11,
     "metadata": {},
     "output_type": "execute_result"
    }
   ],
   "source": [
    "tattoo_totals = {}\n",
    "for tattoo, tattoowords in tattoo_types.items():\n",
    "    tattoo_totals[tattoo] = tattoo_totals.get(tattoo, 0) + \\\n",
    "                            len(tattoos_and_crimes[tattoos_and_crimes.tattoos.str.contains(\"|\".join(tattoowords))])\n",
    "tattoo_totals"
   ]
  },
  {
   "cell_type": "code",
   "execution_count": 12,
   "metadata": {
    "collapsed": false
   },
   "outputs": [
    {
     "data": {
      "text/plain": [
       "{'assault': 124886,\n",
       " 'drugs': 161320,\n",
       " 'murder': 25788,\n",
       " 'robbery': 75437,\n",
       " 'theft': 193781}"
      ]
     },
     "execution_count": 12,
     "metadata": {},
     "output_type": "execute_result"
    }
   ],
   "source": [
    "crime_totals = {}\n",
    "for crime, crimewords in crime_types.items():\n",
    "    crime_totals[crime] = crime_totals.get(crime, 0) + \\\n",
    "                          len(tattoos_and_crimes[tattoos_and_crimes.crimes.str.contains(\"|\".join(crimewords))])\n",
    "crime_totals"
   ]
  },
  {
   "cell_type": "code",
   "execution_count": 13,
   "metadata": {
    "collapsed": false
   },
   "outputs": [
    {
     "data": {
      "text/plain": [
       "{'assault': 27.49224561318543,\n",
       " 'drugs': 35.51278015405308,\n",
       " 'murder': 5.676937606079351,\n",
       " 'robbery': 16.606605482775244,\n",
       " 'theft': 42.65870351495512}"
      ]
     },
     "execution_count": 13,
     "metadata": {},
     "output_type": "execute_result"
    }
   ],
   "source": [
    "avg_crime_rates = {\n",
    "    k: 100.0 * v / len(tattoos_and_crimes)\n",
    "    for k, v in crime_totals.items()\n",
    "}\n",
    "avg_crime_rates"
   ]
  },
  {
   "cell_type": "code",
   "execution_count": 14,
   "metadata": {
    "collapsed": false
   },
   "outputs": [
    {
     "name": "stdout",
     "output_type": "stream",
     "text": [
      " 34.70% of people with none                 tattoos committed drugs   crimes (51838 people)\n",
      " 26.34% of people with none                 tattoos committed assault crimes (39352 people)\n",
      "  6.50% of people with none                 tattoos committed murder  crimes ( 9707 people)\n",
      " 13.59% of people with none                 tattoos committed robbery crimes (20297 people)\n",
      " 36.47% of people with none                 tattoos committed theft   crimes (54479 people)\n",
      " 35.65% of people with christian            tattoos committed drugs   crimes (35032 people)\n",
      " 28.33% of people with christian            tattoos committed assault crimes (27839 people)\n",
      "  4.78% of people with christian            tattoos committed murder  crimes ( 4701 people)\n",
      " 17.75% of people with christian            tattoos committed robbery crimes (17438 people)\n",
      " 46.81% of people with christian            tattoos committed theft   crimes (46002 people)\n",
      " 23.55% of people with three dots           tattoos committed drugs   crimes (  598 people)\n",
      " 30.29% of people with three dots           tattoos committed assault crimes (  769 people)\n",
      "  6.14% of people with three dots           tattoos committed murder  crimes (  156 people)\n",
      " 21.03% of people with three dots           tattoos committed robbery crimes (  534 people)\n",
      " 53.25% of people with three dots           tattoos committed theft   crimes ( 1352 people)\n",
      " 33.52% of people with satanic              tattoos committed drugs   crimes ( 5001 people)\n",
      " 31.68% of people with satanic              tattoos committed assault crimes ( 4726 people)\n",
      "  5.64% of people with satanic              tattoos committed murder  crimes (  842 people)\n",
      " 18.34% of people with satanic              tattoos committed robbery crimes ( 2736 people)\n",
      " 53.74% of people with satanic              tattoos committed theft   crimes ( 8018 people)\n",
      " 35.39% of people with tear drop            tattoos committed drugs   crimes ( 2635 people)\n",
      " 33.70% of people with tear drop            tattoos committed assault crimes ( 2509 people)\n",
      "  6.58% of people with tear drop            tattoos committed murder  crimes (  490 people)\n",
      " 24.00% of people with tear drop            tattoos committed robbery crimes ( 1787 people)\n",
      " 49.70% of people with tear drop            tattoos committed theft   crimes ( 3701 people)\n",
      " 40.98% of people with laugh now, cry later tattoos committed drugs   crimes ( 1582 people)\n",
      " 29.02% of people with laugh now, cry later tattoos committed assault crimes ( 1120 people)\n",
      "  5.08% of people with laugh now, cry later tattoos committed murder  crimes (  196 people)\n",
      " 20.49% of people with laugh now, cry later tattoos committed robbery crimes (  791 people)\n",
      " 46.24% of people with laugh now, cry later tattoos committed theft   crimes ( 1785 people)\n",
      " 43.34% of people with guns                 tattoos committed drugs   crimes ( 7389 people)\n",
      " 33.15% of people with guns                 tattoos committed assault crimes ( 5652 people)\n",
      "  6.50% of people with guns                 tattoos committed murder  crimes ( 1108 people)\n",
      " 24.51% of people with guns                 tattoos committed robbery crimes ( 4178 people)\n",
      " 48.65% of people with guns                 tattoos committed theft   crimes ( 8294 people)\n",
      " 31.69% of people with white supremacist    tattoos committed drugs   crimes ( 1760 people)\n",
      " 32.27% of people with white supremacist    tattoos committed assault crimes ( 1792 people)\n",
      "  6.00% of people with white supremacist    tattoos committed murder  crimes (  333 people)\n",
      " 21.36% of people with white supremacist    tattoos committed robbery crimes ( 1186 people)\n",
      " 57.48% of people with white supremacist    tattoos committed theft   crimes ( 3192 people)\n",
      " 36.52% of people with face                 tattoos committed drugs   crimes (18747 people)\n",
      " 29.76% of people with face                 tattoos committed assault crimes (15279 people)\n",
      "  5.24% of people with face                 tattoos committed murder  crimes ( 2691 people)\n",
      " 19.22% of people with face                 tattoos committed robbery crimes ( 9869 people)\n",
      " 48.88% of people with face                 tattoos committed theft   crimes (25096 people)\n"
     ]
    }
   ],
   "source": [
    "per_tattoo_crime_rates = {}\n",
    "for tattoo, tattoowords in tattoo_types.items():\n",
    "    for crime, crimewords in crime_types.items():\n",
    "        count = len(tattoos_and_crimes[tattoos_and_crimes.tattoos.str.contains(\"|\".join(tattoowords)) &\\\n",
    "                                       tattoos_and_crimes.crimes.str.contains(\"|\".join(crimewords))])\n",
    "        percent = 100.0 * count / tattoo_totals[tattoo]\n",
    "        per_tattoo_crime_rates[(tattoo, crime)] = (count, percent)\n",
    "        print(\"{0: >6.2f}% of people with {1: <20} tattoos committed {2: <7} crimes ({3: >5} people)\".format(percent, tattoo, crime, count))"
   ]
  },
  {
   "cell_type": "code",
   "execution_count": 15,
   "metadata": {
    "collapsed": false
   },
   "outputs": [
    {
     "data": {
      "image/png": "[encoded data removed]",
      "text/plain": [
       "<matplotlib.figure.Figure at 0x7f8e62aff9d0>"
      ]
     },
     "metadata": {},
     "output_type": "display_data"
    }
   ],
   "source": [
    "colors = [\"black\", \"silver\", \"firebrick\", \"darkorange\", \"gold\", \"green\", \"cyan\", \"blue\", \"purple\"]\n",
    "crimes = sorted(crime_types.keys())\n",
    "tattoos = sorted(tattoo_types.keys())\n",
    "fig, ax = plt.subplots(figsize = (20, 10))\n",
    "matplotlib.rc(\"font\", size = 20)\n",
    "\n",
    "ys = []\n",
    "for crime in crimes:\n",
    "    for tattoo in tattoos:\n",
    "        percent = per_tattoo_crime_rates[(tattoo, crime)][1]\n",
    "        ys.append(percent)\n",
    "\n",
    "xs = range(len(crimes) * len(tattoos))\n",
    "cs = colors[:len(tattoos)] * len(crimes)\n",
    "positions = [i * len(tattoos) + len(tattoos) / 2 + 1 for i in range(len(crimes))]\n",
    "\n",
    "bars = plt.bar(xs, ys)\n",
    "for i, b in enumerate(bars):\n",
    "    b.set_color(cs[i])\n",
    "\n",
    "for i in range(len(crimes)):\n",
    "    avg = avg_crime_rates[crimes[i]]\n",
    "    start = i * len(tattoos)\n",
    "    end = start + len(tattoos)\n",
    "    plt.hlines(avg, start, end, colors = \"red\", linewidth = 4)\n",
    "\n",
    "ax.set_xticks(positions)\n",
    "ax.set_xticklabels(crimes, rotation = 30)\n",
    "plt.xlabel(\"people with a certain tattoo who committed a certain crime\")\n",
    "plt.ylabel(\"% of individuals who committed a similar crime\")\n",
    "artists = [mpatches.Patch(color = colors[i]) for i in range(len(tattoos))]\n",
    "artists.insert(0, mpatches.Patch(color = \"red\"))\n",
    "plt.legend(artists, [\"(group average)\"] + tattoos, loc = 0, prop = {\"size\": 13})\n",
    "plt.show()"
   ]
  },
  {
   "cell_type": "markdown",
   "metadata": {},
   "source": [
    "And we can further divide this into sub-plots, separated by crime or tattoo:"
   ]
  },
  {
   "cell_type": "code",
   "execution_count": 16,
   "metadata": {
    "collapsed": false
   },
   "outputs": [],
   "source": [
    "# matplotlib.rc(\"font\", size = 10)\n",
    "# fig, axes = plt.subplots(len(crime_types), 1)"
   ]
  },
  {
   "cell_type": "markdown",
   "metadata": {},
   "source": [
    "### 6. Cleaning Issues"
   ]
  },
  {
   "cell_type": "markdown",
   "metadata": {},
   "source": [
    "For validation, it's hard to know what the baseline that The Economist used was; are their relationships based on the typical crimes for someone with certain tattoos, or the typical tattoos had by someone who commits certain crimes, or something else entirely?"
   ]
  }
 ],
 "metadata": {
  "kernelspec": {
   "display_name": "Python 2",
   "language": "python",
   "name": "python2"
  },
  "language_info": {
   "codemirror_mode": {
    "name": "ipython",
    "version": 2
   },
   "file_extension": ".py",
   "mimetype": "text/x-python",
   "name": "python",
   "nbconvert_exporter": "python",
   "pygments_lexer": "ipython2",
   "version": "2.7.6"
  }
 },
 "nbformat": 4,
 "nbformat_minor": 2
}
