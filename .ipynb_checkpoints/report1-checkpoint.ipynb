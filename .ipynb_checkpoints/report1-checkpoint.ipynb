{
 "cells": [
  {
   "cell_type": "markdown",
   "metadata": {},
   "source": [
    "## Florida Department of Corrections Inmate Crime and Tattoo Database\n",
    "#### Joey, Matt, Sean"
   ]
  },
  {
   "cell_type": "markdown",
   "metadata": {},
   "source": [
    "### 1, 2. The Dataset, Downloaded"
   ]
  },
  {
   "cell_type": "code",
   "execution_count": 1,
   "metadata": {
    "collapsed": false
   },
   "outputs": [],
   "source": [
    "import numpy as np\n",
    "import matplotlib\n",
    "import matplotlib.patches as mpatches\n",
    "import matplotlib.pyplot as plt\n",
    "import pandas\n",
    "import pandas_access\n",
    "%matplotlib inline\n",
    "matplotlib.rc(\"font\", size = 20)\n",
    "DATASET = \"./FDOC_January_2017.mdb\" # From http://www.dc.state.fl.us/pub/obis_request.html \n",
    "                                    # ~1.3 gb; publicly available data."
   ]
  },
  {
   "cell_type": "markdown",
   "metadata": {},
   "source": [
    "### 3. Loading into a DF"
   ]
  },
  {
   "cell_type": "code",
   "execution_count": 2,
   "metadata": {
    "collapsed": false
   },
   "outputs": [],
   "source": [
    "dfs = {}\n",
    "for tablename in pandas_access.list_tables(DATASET):\n",
    "    dfs[tablename] = pandas_access.read_table(DATASET, tablename, low_memory = False)"
   ]
  },
  {
   "cell_type": "markdown",
   "metadata": {},
   "source": [
    "### 4. Identifying Variables of Interest"
   ]
  },
  {
   "cell_type": "code",
   "execution_count": 3,
   "metadata": {
    "collapsed": false,
    "scrolled": true
   },
   "outputs": [
    {
     "data": {
      "text/plain": [
       "[u'INMATE_RELEASE_INCARHIST',\n",
       " u'INMATE_ACTIVE_ROOT',\n",
       " u'INMATE_RELEASE_DETAINERS',\n",
       " u'OFFENDER_OFFENSES_CCS',\n",
       " u'INMATE_RELEASE_OFFENSES_CPS',\n",
       " u'INMATE_RELEASE_RESIDENCE',\n",
       " u'INMATE_RELEASE_SCARSMARKS',\n",
       " u'INMATE_ACTIVE_ALIASES',\n",
       " u'INMATE_ACTIVE_DETAINERS',\n",
       " u'INMATE_RELEASE_OFFENSES_prpr',\n",
       " u'INMATE_ACTIVE_SCARSMARKS',\n",
       " u'OFFENDER_ROOT',\n",
       " u'OFFENDER_RESIDENCE',\n",
       " u'INMATE_ACTIVE_OFFENSES_prpr',\n",
       " u'OFFENDER_ALIASES',\n",
       " u'INMATE_RELEASE_ROOT',\n",
       " u'INMATE_ACTIVE_INCARHIST',\n",
       " u'INMATE_ACTIVE_OFFENSES_CPS',\n",
       " u'CONTENTS',\n",
       " u'INMATE_RELEASE_ALIASES']"
      ]
     },
     "execution_count": 3,
     "metadata": {},
     "output_type": "execute_result"
    }
   ],
   "source": [
    "dfs.keys()"
   ]
  },
  {
   "cell_type": "markdown",
   "metadata": {},
   "source": [
    "We initially planned to duplicate the experiment that linked tattoos and crimes, so we'll look at `SCARSMARKS` and `OFFENSES`."
   ]
  },
  {
   "cell_type": "markdown",
   "metadata": {},
   "source": [
    "### 5. Validation and Plotting"
   ]
  },
  {
   "cell_type": "code",
   "execution_count": 4,
   "metadata": {
    "collapsed": true
   },
   "outputs": [],
   "source": [
    "# http://www.dc.state.fl.us/pub/obis_request.html\n",
    "# http://cdn.static-economist.com/sites/default/files/images/print-edition/20161224_XMC337_0.png"
   ]
  },
  {
   "cell_type": "markdown",
   "metadata": {},
   "source": [
    "First, let's look at the number and types of tattoos:"
   ]
  },
  {
   "cell_type": "code",
   "execution_count": 5,
   "metadata": {
    "collapsed": false
   },
   "outputs": [
    {
     "data": {
      "text/plain": [
       "1266840"
      ]
     },
     "execution_count": 5,
     "metadata": {},
     "output_type": "execute_result"
    }
   ],
   "source": [
    "tattoos = pandas.concat((dfs[\"INMATE_ACTIVE_SCARSMARKS\"], dfs[\"INMATE_RELEASE_SCARSMARKS\"]))\n",
    "tattoo_descriptions = tattoos.Description\n",
    "len(tattoo_descriptions)"
   ]
  },
  {
   "cell_type": "code",
   "execution_count": 6,
   "metadata": {
    "collapsed": false
   },
   "outputs": [
    {
     "name": "stdout",
     "output_type": "stream",
     "text": [
      "none                       0\n",
      "christian             138926\n",
      "three dots              2753\n",
      "satanic                18522\n",
      "tear drop               7946\n",
      "laugh now, cry later    4397\n",
      "guns                   21472\n",
      "white supremacist       6745\n",
      "face                   71814\n"
     ]
    }
   ],
   "source": [
    "tattoo_types = {\n",
    "    \"face\": [\"FACE\", \"HEAD\", \"CHEEK\", \"CHIN\"],\n",
    "    \"white supremacist\": [\"WHITE\", \"ARYAN\", \"NAZI\", \"SWASTIKA\", \"14\", \"88\"],\n",
    "    \"three dots\": [\"3 DOTS\", \"THREE DOTS\", \"THREEDOTS\"],\n",
    "    \"tear drop\": [\"TEAR DROP\", \"TEARDROP\"],\n",
    "    \"guns\": [\"GUN\", \"RIFLE\", \"BULLET\"],\n",
    "    \"laugh now, cry later\": [\"LAUGH NOW\", \"CRY LATER\", \"LAUGHNOW\", \"CRYLATER\"],\n",
    "    \"christian\": [\"CROSS\", \"HOLY\", \"ANGEL\", \"JESUS\", \"PRAY\"],\n",
    "    \"satanic\": [\"PENTA\", \"DEVIL\", \"DEMON\", \"BAPHOMET\"],\n",
    "    \"none\": [\"nan\", \"NaN\"]\n",
    "}\n",
    "for category, keywords in tattoo_types.items():\n",
    "    counts = tattoo_descriptions.str.contains(\"|\".join(keywords)).value_counts()\n",
    "    count = counts[True] if True in counts else 0\n",
    "    print(\"{0: <20} {1: >7}\".format(category, count))"
   ]
  },
  {
   "cell_type": "markdown",
   "metadata": {},
   "source": [
    "Next, let's look at the number and types of crimes:"
   ]
  },
  {
   "cell_type": "code",
   "execution_count": 7,
   "metadata": {
    "collapsed": false
   },
   "outputs": [
    {
     "data": {
      "text/plain": [
       "2385493"
      ]
     },
     "execution_count": 7,
     "metadata": {},
     "output_type": "execute_result"
    }
   ],
   "source": [
    "crimes = pandas.concat((dfs[\"INMATE_ACTIVE_OFFENSES_prpr\"], dfs[\"INMATE_ACTIVE_OFFENSES_CPS\"], dfs[\"INMATE_RELEASE_OFFENSES_prpr\"], dfs[\"INMATE_RELEASE_OFFENSES_CPS\"]))\n",
    "crime_descriptions = crimes.adjudicationcharge_descr\n",
    "len(crime_descriptions)"
   ]
  },
  {
   "cell_type": "code",
   "execution_count": 8,
   "metadata": {
    "collapsed": false
   },
   "outputs": [
    {
     "name": "stdout",
     "output_type": "stream",
     "text": [
      "drugs   427856\n",
      "assault 206298\n",
      "murder   33311\n",
      "robbery 140578\n",
      "theft   720649\n"
     ]
    }
   ],
   "source": [
    "crime_types = {\n",
    "    \"drugs\": [\"DRUG\", \"COCAINE\", \"SUBS\", \"MARIJUANA\"],\n",
    "    \"theft\": [\"BURG\", \"THEFT\", \"THFT\"],\n",
    "    \"robbery\": [\"ROBB\"],\n",
    "    \"assault\": [\"ASLT\", \"ASSLT\", \"ASSAULT\", \"BATT\"],\n",
    "    \"murder\": [\"MUR\", \"MRDR\"]\n",
    "}\n",
    "for category, keywords in crime_types.items():\n",
    "    counts = crime_descriptions.str.contains(\"|\".join(keywords)).value_counts()\n",
    "    count = counts[True] if True in counts else 0\n",
    "    print(\"{0: <7} {1: >6}\".format(category, count))"
   ]
  },
  {
   "cell_type": "markdown",
   "metadata": {},
   "source": [
    "Now, let's group them together and use the totals in each category to calculate a ratio:"
   ]
  },
  {
   "cell_type": "code",
   "execution_count": 9,
   "metadata": {
    "collapsed": false
   },
   "outputs": [],
   "source": [
    "tattoos_crimes = pandas.merge(tattoos, crimes, \"outer\", \"DCNumber\")\n",
    "tattoos_crimes.rename(index = str, columns = {\n",
    "        \"Description\": \"tattoos\",\n",
    "        \"adjudicationcharge_descr\": \"crimes\"\n",
    "    }, inplace = True)"
   ]
  },
  {
   "cell_type": "code",
   "execution_count": 10,
   "metadata": {
    "collapsed": false
   },
   "outputs": [],
   "source": [
    "grouped_tattoos = tattoos_crimes.tattoos.groupby(tattoos_crimes.DCNumber).apply(lambda x: \",\".join(set(x.astype(str))))\n",
    "grouped_crimes = tattoos_crimes.crimes.groupby(tattoos_crimes.DCNumber).apply(lambda x: \",\".join(set(x.astype(str))))\n",
    "tattoos_and_crimes = pandas.concat([grouped_tattoos, grouped_crimes], axis = 1).reset_index()"
   ]
  },
  {
   "cell_type": "code",
   "execution_count": 11,
   "metadata": {
    "collapsed": false
   },
   "outputs": [
    {
     "data": {
      "text/plain": [
       "{'christian': 98267,\n",
       " 'face': 51337,\n",
       " 'guns': 17048,\n",
       " 'laugh now, cry later': 3860,\n",
       " 'none': 149392,\n",
       " 'satanic': 14919,\n",
       " 'tear drop': 7446,\n",
       " 'three dots': 2539,\n",
       " 'white supremacist': 5553}"
      ]
     },
     "execution_count": 11,
     "metadata": {},
     "output_type": "execute_result"
    }
   ],
   "source": [
    "tattoo_totals = {}\n",
    "for tattoo, tattoowords in tattoo_types.items():\n",
    "    tattoo_totals[tattoo] = tattoo_totals.get(tattoo, 0) + \\\n",
    "                            len(tattoos_and_crimes[tattoos_and_crimes.tattoos.str.contains(\"|\".join(tattoowords))])\n",
    "tattoo_totals"
   ]
  },
  {
   "cell_type": "code",
   "execution_count": 12,
   "metadata": {
    "collapsed": false
   },
   "outputs": [
    {
     "data": {
      "text/plain": [
       "{'assault': 124886,\n",
       " 'drugs': 161320,\n",
       " 'murder': 25788,\n",
       " 'robbery': 75437,\n",
       " 'theft': 193781}"
      ]
     },
     "execution_count": 12,
     "metadata": {},
     "output_type": "execute_result"
    }
   ],
   "source": [
    "crime_totals = {}\n",
    "for crime, crimewords in crime_types.items():\n",
    "    crime_totals[crime] = crime_totals.get(crime, 0) + \\\n",
    "                          len(tattoos_and_crimes[tattoos_and_crimes.crimes.str.contains(\"|\".join(crimewords))])\n",
    "crime_totals"
   ]
  },
  {
   "cell_type": "code",
   "execution_count": 13,
   "metadata": {
    "collapsed": false
   },
   "outputs": [
    {
     "name": "stdout",
     "output_type": "stream",
     "text": [
      "none                 tattoos, drugs   crimes:  51838 people ( 32.13% of like crimes)\n",
      "none                 tattoos, assault crimes:  39352 people ( 31.51% of like crimes)\n",
      "none                 tattoos, murder  crimes:   9707 people ( 37.64% of like crimes)\n",
      "none                 tattoos, robbery crimes:  20297 people ( 26.91% of like crimes)\n",
      "none                 tattoos, theft   crimes:  54479 people ( 28.11% of like crimes)\n",
      "christian            tattoos, drugs   crimes:  35032 people ( 21.72% of like crimes)\n",
      "christian            tattoos, assault crimes:  27839 people ( 22.29% of like crimes)\n",
      "christian            tattoos, murder  crimes:   4701 people ( 18.23% of like crimes)\n",
      "christian            tattoos, robbery crimes:  17438 people ( 23.12% of like crimes)\n",
      "christian            tattoos, theft   crimes:  46002 people ( 23.74% of like crimes)\n",
      "three dots           tattoos, drugs   crimes:    598 people (  0.37% of like crimes)\n",
      "three dots           tattoos, assault crimes:    769 people (  0.62% of like crimes)\n",
      "three dots           tattoos, murder  crimes:    156 people (  0.60% of like crimes)\n",
      "three dots           tattoos, robbery crimes:    534 people (  0.71% of like crimes)\n",
      "three dots           tattoos, theft   crimes:   1352 people (  0.70% of like crimes)\n",
      "satanic              tattoos, drugs   crimes:   5001 people (  3.10% of like crimes)\n",
      "satanic              tattoos, assault crimes:   4726 people (  3.78% of like crimes)\n",
      "satanic              tattoos, murder  crimes:    842 people (  3.27% of like crimes)\n",
      "satanic              tattoos, robbery crimes:   2736 people (  3.63% of like crimes)\n",
      "satanic              tattoos, theft   crimes:   8018 people (  4.14% of like crimes)\n",
      "tear drop            tattoos, drugs   crimes:   2635 people (  1.63% of like crimes)\n",
      "tear drop            tattoos, assault crimes:   2509 people (  2.01% of like crimes)\n",
      "tear drop            tattoos, murder  crimes:    490 people (  1.90% of like crimes)\n",
      "tear drop            tattoos, robbery crimes:   1787 people (  2.37% of like crimes)\n",
      "tear drop            tattoos, theft   crimes:   3701 people (  1.91% of like crimes)\n",
      "laugh now, cry later tattoos, drugs   crimes:   1582 people (  0.98% of like crimes)\n",
      "laugh now, cry later tattoos, assault crimes:   1120 people (  0.90% of like crimes)\n",
      "laugh now, cry later tattoos, murder  crimes:    196 people (  0.76% of like crimes)\n",
      "laugh now, cry later tattoos, robbery crimes:    791 people (  1.05% of like crimes)\n",
      "laugh now, cry later tattoos, theft   crimes:   1785 people (  0.92% of like crimes)\n",
      "guns                 tattoos, drugs   crimes:   7389 people (  4.58% of like crimes)\n",
      "guns                 tattoos, assault crimes:   5652 people (  4.53% of like crimes)\n",
      "guns                 tattoos, murder  crimes:   1108 people (  4.30% of like crimes)\n",
      "guns                 tattoos, robbery crimes:   4178 people (  5.54% of like crimes)\n",
      "guns                 tattoos, theft   crimes:   8294 people (  4.28% of like crimes)\n",
      "white supremacist    tattoos, drugs   crimes:   1760 people (  1.09% of like crimes)\n",
      "white supremacist    tattoos, assault crimes:   1792 people (  1.43% of like crimes)\n",
      "white supremacist    tattoos, murder  crimes:    333 people (  1.29% of like crimes)\n",
      "white supremacist    tattoos, robbery crimes:   1186 people (  1.57% of like crimes)\n",
      "white supremacist    tattoos, theft   crimes:   3192 people (  1.65% of like crimes)\n",
      "face                 tattoos, drugs   crimes:  18747 people ( 11.62% of like crimes)\n",
      "face                 tattoos, assault crimes:  15279 people ( 12.23% of like crimes)\n",
      "face                 tattoos, murder  crimes:   2691 people ( 10.44% of like crimes)\n",
      "face                 tattoos, robbery crimes:   9869 people ( 13.08% of like crimes)\n",
      "face                 tattoos, theft   crimes:  25096 people ( 12.95% of like crimes)\n"
     ]
    }
   ],
   "source": [
    "groupings = {}\n",
    "for tattoo, tattoowords in tattoo_types.items():\n",
    "    for crime, crimewords in crime_types.items():\n",
    "        count = len(tattoos_and_crimes[tattoos_and_crimes.tattoos.str.contains(\"|\".join(tattoowords)) &\\\n",
    "                                       tattoos_and_crimes.crimes.str.contains(\"|\".join(crimewords))])\n",
    "        percent = 100.0 * count / crime_totals[crime]\n",
    "        groupings[(tattoo, crime)] = (count, percent)\n",
    "        print(\"{0: <20} tattoos, {1: <7} crimes: {2: >6} people ({3: >6.2f}% of like crimes)\".format(tattoo, crime, count, percent))"
   ]
  },
  {
   "cell_type": "code",
   "execution_count": 14,
   "metadata": {
    "collapsed": false
   },
   "outputs": [
    {
     "data": {
      "image/png": "[encoded data removed]",
      "text/plain": [
       "<matplotlib.figure.Figure at 0x7f9039f073d0>"
      ]
     },
     "metadata": {},
     "output_type": "display_data"
    }
   ],
   "source": [
    "colors = [\"black\", \"silver\", \"red\", \"darkorange\", \"yellow\", \"green\", \"cyan\", \"blue\", \"purple\"]\n",
    "fig, ax = plt.subplots(figsize = (20, 10))\n",
    "\n",
    "ys = []\n",
    "for crime in crime_types.keys():\n",
    "    for tattoo in tattoo_types.keys():\n",
    "        percent = groupings[(tattoo, crime)][1]\n",
    "        ys.append(percent)\n",
    "\n",
    "xs = range(len(crime_types) * len(tattoo_types))\n",
    "cs = colors[:len(tattoo_types)] * len(crime_types)\n",
    "positions = [i * len(tattoo_types) + len(tattoo_types) / 2 + 1 for i in range(len(crime_types))]\n",
    "\n",
    "bars = plt.bar(xs, ys)\n",
    "for i, b in enumerate(bars):\n",
    "    b.set_color(cs[i])\n",
    "\n",
    "ax.set_xticks(positions)\n",
    "ax.set_xticklabels(crime_types.keys(), rotation = 30)\n",
    "plt.xlabel(\"people with a certain tattoo who commit a certain crime\")\n",
    "plt.ylabel(\"% total individuals who commit a similar crime\")\n",
    "artists = [mpatches.Patch(color = colors[i]) for i in range(len(tattoo_types))]\n",
    "plt.legend(artists, tattoo_types.keys(), prop = {\"size\": 13})\n",
    "plt.show()"
   ]
  },
  {
   "cell_type": "markdown",
   "metadata": {},
   "source": [
    "### 6. Cleaning Issues"
   ]
  },
  {
   "cell_type": "markdown",
   "metadata": {},
   "source": [
    "For validation, it's hard to know what the baseline that The Economist used was; are their relationships based on the typical crimes for someone with certain tattoos, or the typical tattoos had by someone who commits certain crimes, or something else entirely?"
   ]
  }
 ],
 "metadata": {
  "kernelspec": {
   "display_name": "Python 2",
   "language": "python",
   "name": "python2"
  },
  "language_info": {
   "codemirror_mode": {
    "name": "ipython",
    "version": 2
   },
   "file_extension": ".py",
   "mimetype": "text/x-python",
   "name": "python",
   "nbconvert_exporter": "python",
   "pygments_lexer": "ipython2",
   "version": "2.7.6"
  }
 },
 "nbformat": 4,
 "nbformat_minor": 2
}
