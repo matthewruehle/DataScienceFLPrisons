{
 "cells": [
  {
   "cell_type": "markdown",
   "metadata": {},
   "source": [
    "## Florida Department of Corrections Inmate Crime and Tattoo Database\n",
    "#### Joey, Matt, Sean"
   ]
  },
  {
   "cell_type": "markdown",
   "metadata": {},
   "source": [
    "### 1, 2. The Dataset, Downloaded"
   ]
  },
  {
   "cell_type": "code",
   "execution_count": 1,
   "metadata": {
    "collapsed": true
   },
   "outputs": [],
   "source": [
    "import pandas\n",
    "import numpy as np\n",
    "import pandas_access\n",
    "DATASET = \"./FDOC_January_2017.mdb\" # From http://www.dc.state.fl.us/pub/obis_request.html \n",
    "                                    # ~1.3 gb; publicly available data."
   ]
  },
  {
   "cell_type": "markdown",
   "metadata": {},
   "source": [
    "### 3. Loading into a DF"
   ]
  },
  {
   "cell_type": "code",
   "execution_count": 2,
   "metadata": {
    "collapsed": false
   },
   "outputs": [],
   "source": [
    "dfs = {}\n",
    "for tablename in pandas_access.list_tables(DATASET):\n",
    "    dfs[tablename] = pandas_access.read_table(DATASET, tablename, low_memory = False)"
   ]
  },
  {
   "cell_type": "markdown",
   "metadata": {},
   "source": [
    "### 4. Identifying Variables of Interest"
   ]
  },
  {
   "cell_type": "code",
   "execution_count": 3,
   "metadata": {
    "collapsed": false,
    "scrolled": true
   },
   "outputs": [
    {
     "data": {
      "text/plain": [
       "[u'INMATE_RELEASE_INCARHIST',\n",
       " u'INMATE_ACTIVE_ROOT',\n",
       " u'INMATE_RELEASE_DETAINERS',\n",
       " u'OFFENDER_OFFENSES_CCS',\n",
       " u'INMATE_RELEASE_OFFENSES_CPS',\n",
       " u'INMATE_RELEASE_RESIDENCE',\n",
       " u'INMATE_RELEASE_SCARSMARKS',\n",
       " u'INMATE_ACTIVE_ALIASES',\n",
       " u'INMATE_ACTIVE_DETAINERS',\n",
       " u'INMATE_RELEASE_OFFENSES_prpr',\n",
       " u'INMATE_ACTIVE_SCARSMARKS',\n",
       " u'OFFENDER_ROOT',\n",
       " u'OFFENDER_RESIDENCE',\n",
       " u'INMATE_ACTIVE_OFFENSES_prpr',\n",
       " u'OFFENDER_ALIASES',\n",
       " u'INMATE_RELEASE_ROOT',\n",
       " u'INMATE_ACTIVE_INCARHIST',\n",
       " u'INMATE_ACTIVE_OFFENSES_CPS',\n",
       " u'CONTENTS',\n",
       " u'INMATE_RELEASE_ALIASES']"
      ]
     },
     "execution_count": 3,
     "metadata": {},
     "output_type": "execute_result"
    }
   ],
   "source": [
    "dfs.keys()"
   ]
  },
  {
   "cell_type": "markdown",
   "metadata": {},
   "source": [
    "We initially planned to duplicate the experiment that linked tattoos and crimes, so we'll look at `SCARSMARKS` and `OFFENSES`."
   ]
  },
  {
   "cell_type": "markdown",
   "metadata": {},
   "source": [
    "### 5. Validation and Plotting"
   ]
  },
  {
   "cell_type": "code",
   "execution_count": 4,
   "metadata": {
    "collapsed": true
   },
   "outputs": [],
   "source": [
    "# http://www.dc.state.fl.us/pub/obis_request.html\n",
    "# http://cdn.static-economist.com/sites/default/files/images/print-edition/20161224_XMC337_0.png"
   ]
  },
  {
   "cell_type": "markdown",
   "metadata": {},
   "source": [
    "First, let's look at the number and types of crimes:"
   ]
  },
  {
   "cell_type": "code",
   "execution_count": 5,
   "metadata": {
    "collapsed": false
   },
   "outputs": [
    {
     "data": {
      "text/plain": [
       "2385210"
      ]
     },
     "execution_count": 5,
     "metadata": {},
     "output_type": "execute_result"
    }
   ],
   "source": [
    "crimes = pandas.concat((dfs[\"INMATE_ACTIVE_OFFENSES_prpr\"], dfs[\"INMATE_ACTIVE_OFFENSES_CPS\"], dfs[\"INMATE_RELEASE_OFFENSES_prpr\"], dfs[\"INMATE_RELEASE_OFFENSES_CPS\"]))\n",
    "crime_descriptions = crimes.adjudicationcharge_descr[crimes.adjudicationcharge_descr != \"UNKNOWN\"]\n",
    "len(crime_descriptions)"
   ]
  },
  {
   "cell_type": "code",
   "execution_count": 6,
   "metadata": {
    "collapsed": false
   },
   "outputs": [
    {
     "name": "stdout",
     "output_type": "stream",
     "text": [
      "drugs   427856\n",
      "assault 206298\n",
      "murder   33311\n",
      "robbery 140578\n",
      "theft   720649\n"
     ]
    }
   ],
   "source": [
    "crime_types = {\n",
    "    \"drugs\": [\"DRUG\", \"COCAINE\", \"SUBS\", \"MARIJUANA\"],\n",
    "    \"theft\": [\"BURG\", \"THEFT\", \"THFT\"],\n",
    "    \"robbery\": [\"ROBB\"],\n",
    "    \"assault\": [\"ASLT\", \"ASSLT\", \"ASSAULT\", \"BATT\"],\n",
    "    \"murder\": [\"MUR\", \"MRDR\"]\n",
    "}\n",
    "for category, keywords in crime_types.items():\n",
    "    count = crime_descriptions.str.contains(\"|\".join(keywords)).value_counts()[True]\n",
    "    print(\"{0: <7} {1: >6}\".format(category, count))"
   ]
  },
  {
   "cell_type": "markdown",
   "metadata": {},
   "source": [
    "Next, let's look at the number and types of tattoos:"
   ]
  },
  {
   "cell_type": "code",
   "execution_count": 7,
   "metadata": {
    "collapsed": false
   },
   "outputs": [
    {
     "data": {
      "text/plain": [
       "1266840"
      ]
     },
     "execution_count": 7,
     "metadata": {},
     "output_type": "execute_result"
    }
   ],
   "source": [
    "tattoos = pandas.concat((dfs[\"INMATE_ACTIVE_SCARSMARKS\"], dfs[\"INMATE_RELEASE_SCARSMARKS\"]))\n",
    "tattoo_descriptions = tattoos.Description\n",
    "len(tattoo_descriptions)"
   ]
  },
  {
   "cell_type": "code",
   "execution_count": 8,
   "metadata": {
    "collapsed": false
   },
   "outputs": [
    {
     "name": "stdout",
     "output_type": "stream",
     "text": [
      "christian            138926\n",
      "three dots             2753\n",
      "satanic               18522\n",
      "tear drop              7946\n",
      "laugh now, cry later   4397\n",
      "guns                  21472\n",
      "white supremacist      6745\n",
      "face                  71814\n"
     ]
    }
   ],
   "source": [
    "tattoo_types = {\n",
    "    \"face\": [\"FACE\", \"HEAD\", \"CHEEK\", \"CHIN\"],\n",
    "    \"white supremacist\": [\"WHITE\", \"ARYAN\", \"NAZI\", \"SWASTIKA\", \"14\", \"88\"],\n",
    "    \"three dots\": [\"3 DOTS\", \"THREE DOTS\", \"THREEDOTS\"],\n",
    "    \"tear drop\": [\"TEAR DROP\", \"TEARDROP\"],\n",
    "    \"guns\": [\"GUN\", \"RIFLE\", \"BULLET\"],\n",
    "    \"laugh now, cry later\": [\"LAUGH NOW\", \"CRY LATER\", \"LAUGHNOW\", \"CRYLATER\"],\n",
    "    \"christian\": [\"CROSS\", \"HOLY\", \"ANGEL\", \"JESUS\", \"PRAY\"],\n",
    "    \"satanic\": [\"PENTA\", \"DEVIL\", \"DEMON\", \"BAPHOMET\"]\n",
    "}\n",
    "for category, keywords in tattoo_types.items():\n",
    "    count = tattoo_descriptions.str.contains(\"|\".join(keywords)).value_counts()[True]\n",
    "    print(\"{0: <20} {1: >6}\".format(category, count))"
   ]
  },
  {
   "cell_type": "markdown",
   "metadata": {},
   "source": [
    "Now, let's group them together:"
   ]
  },
  {
   "cell_type": "code",
   "execution_count": 9,
   "metadata": {
    "collapsed": false
   },
   "outputs": [],
   "source": [
    "crimes_and_tattoos = pandas.merge(crimes, tattoos, \"inner\", \"DCNumber\")"
   ]
  },
  {
   "cell_type": "code",
   "execution_count": 10,
   "metadata": {
    "collapsed": false
   },
   "outputs": [],
   "source": [
    "grouped_crimes = crimes_and_tattoos.adjudicationcharge_descr.groupby(crimes_and_tattoos.DCNumber).apply(lambda x: \",\".join(set(x.astype(str))))\n",
    "grouped_tattoos = crimes_and_tattoos.Description.groupby(crimes_and_tattoos.DCNumber).apply(lambda x: \",\".join(set(x.astype(str))))\n",
    "crimes_and_tattoos = pandas.concat([grouped_crimes, grouped_tattoos], axis = 1).reset_index()"
   ]
  },
  {
   "cell_type": "code",
   "execution_count": 11,
   "metadata": {
    "collapsed": false
   },
   "outputs": [
    {
     "name": "stdout",
     "output_type": "stream",
     "text": [
      "christian            tattoos -> drugs   crimes:  35032 instances\n",
      "christian            tattoos -> assault crimes:  27839 instances\n",
      "christian            tattoos -> murder  crimes:   4701 instances\n",
      "christian            tattoos -> robbery crimes:  17438 instances\n",
      "christian            tattoos -> theft   crimes:  46002 instances\n",
      "three dots           tattoos -> drugs   crimes:    598 instances\n",
      "three dots           tattoos -> assault crimes:    769 instances\n",
      "three dots           tattoos -> murder  crimes:    156 instances\n",
      "three dots           tattoos -> robbery crimes:    534 instances\n",
      "three dots           tattoos -> theft   crimes:   1352 instances\n",
      "satanic              tattoos -> drugs   crimes:   5001 instances\n",
      "satanic              tattoos -> assault crimes:   4726 instances\n",
      "satanic              tattoos -> murder  crimes:    842 instances\n",
      "satanic              tattoos -> robbery crimes:   2736 instances\n",
      "satanic              tattoos -> theft   crimes:   8018 instances\n",
      "tear drop            tattoos -> drugs   crimes:   2635 instances\n",
      "tear drop            tattoos -> assault crimes:   2509 instances\n",
      "tear drop            tattoos -> murder  crimes:    490 instances\n",
      "tear drop            tattoos -> robbery crimes:   1787 instances\n",
      "tear drop            tattoos -> theft   crimes:   3701 instances\n",
      "laugh now, cry later tattoos -> drugs   crimes:   1582 instances\n",
      "laugh now, cry later tattoos -> assault crimes:   1120 instances\n",
      "laugh now, cry later tattoos -> murder  crimes:    196 instances\n",
      "laugh now, cry later tattoos -> robbery crimes:    791 instances\n",
      "laugh now, cry later tattoos -> theft   crimes:   1785 instances\n",
      "guns                 tattoos -> drugs   crimes:   7389 instances\n",
      "guns                 tattoos -> assault crimes:   5652 instances\n",
      "guns                 tattoos -> murder  crimes:   1108 instances\n",
      "guns                 tattoos -> robbery crimes:   4178 instances\n",
      "guns                 tattoos -> theft   crimes:   8294 instances\n",
      "white supremacist    tattoos -> drugs   crimes:   1760 instances\n",
      "white supremacist    tattoos -> assault crimes:   1792 instances\n",
      "white supremacist    tattoos -> murder  crimes:    333 instances\n",
      "white supremacist    tattoos -> robbery crimes:   1186 instances\n",
      "white supremacist    tattoos -> theft   crimes:   3192 instances\n",
      "face                 tattoos -> drugs   crimes:  18747 instances\n",
      "face                 tattoos -> assault crimes:  15279 instances\n",
      "face                 tattoos -> murder  crimes:   2691 instances\n",
      "face                 tattoos -> robbery crimes:   9869 instances\n",
      "face                 tattoos -> theft   crimes:  25096 instances\n"
     ]
    }
   ],
   "source": [
    "groupings = {}\n",
    "for tattoo, tattoowords in tattoo_types.items():\n",
    "    for crime, crimewords in crime_types.items():\n",
    "        count = len(crimes_and_tattoos[crimes_and_tattoos.Description.str.contains(\"|\".join(tattoowords)) &\\\n",
    "                          crimes_and_tattoos.adjudicationcharge_descr.str.contains(\"|\".join(crimewords))])\n",
    "        groupings[(tattoo, crime)] = count\n",
    "        print(\"{0: <20} tattoos -> {1: <7} crimes: {2: >6} instances\".format(tattoo, crime, count))"
   ]
  },
  {
   "cell_type": "markdown",
   "metadata": {},
   "source": [
    "And try to find a mapping:"
   ]
  },
  {
   "cell_type": "code",
   "execution_count": 12,
   "metadata": {
    "collapsed": false
   },
   "outputs": [
    {
     "name": "stdout",
     "output_type": "stream",
     "text": [
      "christian            -> drugs  : above average\n",
      "christian            -> assault: above average\n",
      "christian            -> murder : below average\n",
      "christian            -> robbery: below average\n",
      "christian            -> theft  : above average\n",
      "three dots           -> drugs  : below average\n",
      "three dots           -> assault: above average\n",
      "three dots           -> murder : below average\n",
      "three dots           -> robbery: below average\n",
      "three dots           -> theft  : above average\n",
      "satanic              -> drugs  : above average\n",
      "satanic              -> assault: above average\n",
      "satanic              -> murder : below average\n",
      "satanic              -> robbery: below average\n",
      "satanic              -> theft  : above average\n",
      "tear drop            -> drugs  : above average\n",
      "tear drop            -> assault: above average\n",
      "tear drop            -> murder : below average\n",
      "tear drop            -> robbery: below average\n",
      "tear drop            -> theft  : above average\n",
      "laugh now, cry later -> drugs  : above average\n",
      "laugh now, cry later -> assault: above average\n",
      "laugh now, cry later -> murder : below average\n",
      "laugh now, cry later -> robbery: below average\n",
      "laugh now, cry later -> theft  : above average\n",
      "guns                 -> drugs  : above average\n",
      "guns                 -> assault: above average\n",
      "guns                 -> murder : below average\n",
      "guns                 -> robbery: below average\n",
      "guns                 -> theft  : above average\n",
      "white supremacist    -> drugs  : above average\n",
      "white supremacist    -> assault: above average\n",
      "white supremacist    -> murder : below average\n",
      "white supremacist    -> robbery: below average\n",
      "white supremacist    -> theft  : above average\n",
      "face                 -> drugs  : above average\n",
      "face                 -> assault: above average\n",
      "face                 -> murder : below average\n",
      "face                 -> robbery: below average\n",
      "face                 -> theft  : above average\n"
     ]
    }
   ],
   "source": [
    "# relative to crimes committed by same tattoo-havers\n",
    "for tattoo in tattoo_types.keys():\n",
    "    avg = sum([groupings[(tattoo, crime)]\n",
    "               for crime in crime_types.keys()]) \\\n",
    "          / len(crime_types.keys())\n",
    "    for crime in crime_types.keys():\n",
    "        relation = \"below\" if groupings[(tattoo, crime)] < avg else \"above\"\n",
    "        print(\"{0: <20} -> {1: <7}: {2: <5} average\".format(tattoo, crime, relation))"
   ]
  },
  {
   "cell_type": "code",
   "execution_count": 13,
   "metadata": {
    "collapsed": false
   },
   "outputs": [
    {
     "name": "stdout",
     "output_type": "stream",
     "text": [
      "christian            -> drugs  : above average\n",
      "three dots           -> drugs  : below average\n",
      "satanic              -> drugs  : below average\n",
      "tear drop            -> drugs  : below average\n",
      "laugh now, cry later -> drugs  : below average\n",
      "guns                 -> drugs  : below average\n",
      "white supremacist    -> drugs  : below average\n",
      "face                 -> drugs  : above average\n",
      "christian            -> assault: above average\n",
      "three dots           -> assault: below average\n",
      "satanic              -> assault: below average\n",
      "tear drop            -> assault: below average\n",
      "laugh now, cry later -> assault: below average\n",
      "guns                 -> assault: below average\n",
      "white supremacist    -> assault: below average\n",
      "face                 -> assault: above average\n",
      "christian            -> murder : above average\n",
      "three dots           -> murder : below average\n",
      "satanic              -> murder : below average\n",
      "tear drop            -> murder : below average\n",
      "laugh now, cry later -> murder : below average\n",
      "guns                 -> murder : below average\n",
      "white supremacist    -> murder : below average\n",
      "face                 -> murder : above average\n",
      "christian            -> robbery: above average\n",
      "three dots           -> robbery: below average\n",
      "satanic              -> robbery: below average\n",
      "tear drop            -> robbery: below average\n",
      "laugh now, cry later -> robbery: below average\n",
      "guns                 -> robbery: below average\n",
      "white supremacist    -> robbery: below average\n",
      "face                 -> robbery: above average\n",
      "christian            -> theft  : above average\n",
      "three dots           -> theft  : below average\n",
      "satanic              -> theft  : below average\n",
      "tear drop            -> theft  : below average\n",
      "laugh now, cry later -> theft  : below average\n",
      "guns                 -> theft  : below average\n",
      "white supremacist    -> theft  : below average\n",
      "face                 -> theft  : above average\n"
     ]
    }
   ],
   "source": [
    "# relative to tattoos had by same crime-committers\n",
    "for crime in crime_types.keys():\n",
    "    avg = sum([groupings[(tattoo, crime)]\n",
    "               for tattoo in tattoo_types.keys()]) \\\n",
    "          / len(tattoo_types.keys())\n",
    "    for tattoo in tattoo_types.keys():\n",
    "        relation = \"below\" if groupings[(tattoo, crime)] < avg else \"above\"\n",
    "        print(\"{0: <20} -> {1: <7}: {2: <5} average\".format(tattoo, crime, relation))"
   ]
  },
  {
   "cell_type": "markdown",
   "metadata": {},
   "source": [
    "### 6. Cleaning Issues"
   ]
  },
  {
   "cell_type": "markdown",
   "metadata": {},
   "source": [
    "For validation, it's hard to know what the baseline that The Economist used was; are their relationships based on the typical crimes for someone with certain tattoos, or the typical tattoos had by someone who commits certain crimes, or something else entirely? We believe their actual baseline was inmates without tattoos, but it's hard to say."
   ]
  }
 ],
 "metadata": {
  "kernelspec": {
   "display_name": "Python 2",
   "language": "python",
   "name": "python2"
  },
  "language_info": {
   "codemirror_mode": {
    "name": "ipython",
    "version": 2
   },
   "file_extension": ".py",
   "mimetype": "text/x-python",
   "name": "python",
   "nbconvert_exporter": "python",
   "pygments_lexer": "ipython2",
   "version": "2.7.6"
  }
 },
 "nbformat": 4,
 "nbformat_minor": 2
}
