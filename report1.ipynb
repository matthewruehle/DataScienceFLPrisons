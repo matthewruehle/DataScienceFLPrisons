{
 "cells": [
  {
   "cell_type": "markdown",
   "metadata": {},
   "source": [
    "## Florida Department of Corrections Inmate Crime and Tattoo Database\n",
    "#### Joey, Matt, Sean"
   ]
  },
  {
   "cell_type": "markdown",
   "metadata": {},
   "source": [
    "### 1, 2. The Dataset, Downloaded"
   ]
  },
  {
   "cell_type": "code",
   "execution_count": 1,
   "metadata": {
    "collapsed": true
   },
   "outputs": [],
   "source": [
    "import pandas\n",
    "import numpy as np\n",
    "import pandas_access\n",
    "DATASET = \"./FDOC_January_2017.mdb\""
   ]
  },
  {
   "cell_type": "markdown",
   "metadata": {},
   "source": [
    "### 3. Loading into a DF"
   ]
  },
  {
   "cell_type": "code",
   "execution_count": 2,
   "metadata": {
    "collapsed": false
   },
   "outputs": [],
   "source": [
    "dfs = {}\n",
    "for tablename in pandas_access.list_tables(DATASET):\n",
    "    dfs[tablename] = pandas_access.read_table(DATASET, tablename, low_memory = False)"
   ]
  },
  {
   "cell_type": "markdown",
   "metadata": {},
   "source": [
    "### 4. Identifying Variables of Interest"
   ]
  },
  {
   "cell_type": "code",
   "execution_count": 3,
   "metadata": {
    "collapsed": false,
    "scrolled": true
   },
   "outputs": [
    {
     "data": {
      "text/plain": [
       "[u'INMATE_RELEASE_INCARHIST',\n",
       " u'INMATE_ACTIVE_ROOT',\n",
       " u'INMATE_RELEASE_DETAINERS',\n",
       " u'OFFENDER_OFFENSES_CCS',\n",
       " u'INMATE_RELEASE_OFFENSES_CPS',\n",
       " u'INMATE_RELEASE_RESIDENCE',\n",
       " u'INMATE_RELEASE_SCARSMARKS',\n",
       " u'INMATE_ACTIVE_ALIASES',\n",
       " u'INMATE_ACTIVE_DETAINERS',\n",
       " u'INMATE_RELEASE_OFFENSES_prpr',\n",
       " u'INMATE_ACTIVE_SCARSMARKS',\n",
       " u'OFFENDER_ROOT',\n",
       " u'OFFENDER_RESIDENCE',\n",
       " u'INMATE_ACTIVE_OFFENSES_prpr',\n",
       " u'OFFENDER_ALIASES',\n",
       " u'INMATE_RELEASE_ROOT',\n",
       " u'INMATE_ACTIVE_INCARHIST',\n",
       " u'INMATE_ACTIVE_OFFENSES_CPS',\n",
       " u'CONTENTS',\n",
       " u'INMATE_RELEASE_ALIASES']"
      ]
     },
     "execution_count": 3,
     "metadata": {},
     "output_type": "execute_result"
    }
   ],
   "source": [
    "dfs.keys()"
   ]
  },
  {
   "cell_type": "markdown",
   "metadata": {},
   "source": [
    "### 5. Validation and Plotting"
   ]
  },
  {
   "cell_type": "code",
   "execution_count": 4,
   "metadata": {
    "collapsed": true
   },
   "outputs": [],
   "source": [
    "# http://www.dc.state.fl.us/pub/obis_request.html\n",
    "# http://cdn.static-economist.com/sites/default/files/images/print-edition/20161224_XMC337_0.png"
   ]
  },
  {
   "cell_type": "code",
   "execution_count": 5,
   "metadata": {
    "collapsed": false
   },
   "outputs": [
    {
     "data": {
      "text/plain": [
       "2385210"
      ]
     },
     "execution_count": 5,
     "metadata": {},
     "output_type": "execute_result"
    }
   ],
   "source": [
    "crimes = pandas.concat((dfs[\"INMATE_ACTIVE_OFFENSES_prpr\"], dfs[\"INMATE_ACTIVE_OFFENSES_CPS\"], dfs[\"INMATE_RELEASE_OFFENSES_prpr\"], dfs[\"INMATE_RELEASE_OFFENSES_CPS\"]))\n",
    "crime_descriptions = crimes.adjudicationcharge_descr[crimes.adjudicationcharge_descr != \"UNKNOWN\"]\n",
    "# crime_descriptions.value_counts()\n",
    "len(crime_descriptions)"
   ]
  },
  {
   "cell_type": "code",
   "execution_count": 6,
   "metadata": {
    "collapsed": false
   },
   "outputs": [
    {
     "name": "stdout",
     "output_type": "stream",
     "text": [
      "drugs: 427856\n",
      "assault: 206298\n",
      "murder: 16334\n",
      "robbery: 140578\n",
      "theft: 720649\n"
     ]
    }
   ],
   "source": [
    "crime_types = {\n",
    "    \"drugs\": [\"DRUG\", \"COCAINE\", \"SUBS\", \"MARIJUANA\"],\n",
    "    \"theft\": [\"BURG\", \"THEFT\", \"THFT\"],\n",
    "    \"robbery\": [\"ROBB\"],\n",
    "    \"assault\": [\"ASLT\", \"ASSLT\", \"ASSAULT\", \"BATT\"],\n",
    "    \"murder\": [\"MURD\", \"MRDR\"]\n",
    "}\n",
    "for category, keywords in crime_types.items():\n",
    "    count = crime_descriptions.str.contains(\"|\".join(keywords)).value_counts()[True]\n",
    "    print(\"{0}: {1}\".format(category, count))"
   ]
  },
  {
   "cell_type": "code",
   "execution_count": 7,
   "metadata": {
    "collapsed": false
   },
   "outputs": [
    {
     "data": {
      "text/plain": [
       "1266840"
      ]
     },
     "execution_count": 7,
     "metadata": {},
     "output_type": "execute_result"
    }
   ],
   "source": [
    "tattoos = pandas.concat((dfs[\"INMATE_ACTIVE_SCARSMARKS\"], dfs[\"INMATE_RELEASE_SCARSMARKS\"]))\n",
    "tattoo_descriptions = tattoos.Description\n",
    "# tattoo_descriptions.value_counts()\n",
    "len(tattoo_descriptions)"
   ]
  },
  {
   "cell_type": "code",
   "execution_count": 8,
   "metadata": {
    "collapsed": false
   },
   "outputs": [
    {
     "name": "stdout",
     "output_type": "stream",
     "text": [
      "christian: 138926\n",
      "three dots: 2753\n",
      "satanic: 18522\n",
      "tear drop: 7946\n",
      "laugh now, cry later: 1750\n",
      "guns: 21472\n",
      "white supremacist: 6745\n",
      "face: 71814\n"
     ]
    }
   ],
   "source": [
    "tattoo_types = {\n",
    "    \"face\": [\"FACE\", \"HEAD\", \"CHEEK\", \"CHIN\"],\n",
    "    \"white supremacist\": [\"WHITE\", \"ARYAN\", \"NAZI\", \"SWASTIKA\", \"14\", \"88\"],\n",
    "    \"three dots\": [\"3 DOTS\", \"THREE DOTS\", \"THREEDOTS\"],\n",
    "    \"tear drop\": [\"TEAR DROP\", \"TEARDROP\"],\n",
    "    \"guns\": [\"GUN\", \"RIFLE\", \"BULLET\"],\n",
    "    \"laugh now, cry later\": [\"LAUGH NOW CRY LATER\", \"LAUGH NOW, CRY LATER\", \"LAUGHNOWCRYLATER\"],\n",
    "    \"christian\": [\"CROSS\", \"HOLY\", \"ANGEL\", \"JESUS\", \"PRAY\"],\n",
    "    \"satanic\": [\"PENTA\", \"DEVIL\", \"DEMON\", \"BAPHOMET\"]\n",
    "}\n",
    "for category, keywords in tattoo_types.items():\n",
    "    count = tattoo_descriptions.str.contains(\"|\".join(keywords)).value_counts()[True]\n",
    "    print(\"{0}: {1}\".format(category, count))"
   ]
  },
  {
   "cell_type": "markdown",
   "metadata": {},
   "source": [
    "### 6. Cleaning Issues"
   ]
  }
 ],
 "metadata": {
  "kernelspec": {
   "display_name": "Python 2",
   "language": "python",
   "name": "python2"
  },
  "language_info": {
   "codemirror_mode": {
    "name": "ipython",
    "version": 2
   },
   "file_extension": ".py",
   "mimetype": "text/x-python",
   "name": "python",
   "nbconvert_exporter": "python",
   "pygments_lexer": "ipython2",
   "version": "2.7.6"
  }
 },
 "nbformat": 4,
 "nbformat_minor": 2
}
