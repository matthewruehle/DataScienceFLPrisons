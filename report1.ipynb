{
 "cells": [
  {
   "cell_type": "markdown",
   "metadata": {},
   "source": [
    "## Florida Department of Corrections Inmate Crime and Tattoo Database\n",
    "#### Joey, Matt, Sean"
   ]
  },
  {
   "cell_type": "markdown",
   "metadata": {},
   "source": [
    "### 1, 2. The Dataset, Downloaded"
   ]
  },
  {
   "cell_type": "code",
   "execution_count": 1,
   "metadata": {
    "collapsed": true
   },
   "outputs": [],
   "source": [
    "import pandas\n",
    "import numpy as np\n",
    "import pandas_access\n",
    "DATASET = \"./FDOC_January_2017.mdb\""
   ]
  },
  {
   "cell_type": "markdown",
   "metadata": {},
   "source": [
    "### 3. Loading into a DF"
   ]
  },
  {
   "cell_type": "code",
   "execution_count": 2,
   "metadata": {
    "collapsed": false
   },
   "outputs": [],
   "source": [
    "dfs = {}\n",
    "for tablename in pandas_access.list_tables(DATASET):\n",
    "    dfs[tablename] = pandas_access.read_table(DATASET, tablename, low_memory = False)"
   ]
  },
  {
   "cell_type": "markdown",
   "metadata": {},
   "source": [
    "### 4. Identifying Variables of Interest"
   ]
  },
  {
   "cell_type": "code",
   "execution_count": 3,
   "metadata": {
    "collapsed": false,
    "scrolled": true
   },
   "outputs": [
    {
     "data": {
      "text/plain": [
       "[u'INMATE_RELEASE_INCARHIST',\n",
       " u'INMATE_ACTIVE_ROOT',\n",
       " u'INMATE_RELEASE_DETAINERS',\n",
       " u'OFFENDER_OFFENSES_CCS',\n",
       " u'INMATE_RELEASE_OFFENSES_CPS',\n",
       " u'INMATE_RELEASE_RESIDENCE',\n",
       " u'INMATE_RELEASE_SCARSMARKS',\n",
       " u'INMATE_ACTIVE_ALIASES',\n",
       " u'INMATE_ACTIVE_DETAINERS',\n",
       " u'INMATE_RELEASE_OFFENSES_prpr',\n",
       " u'INMATE_ACTIVE_SCARSMARKS',\n",
       " u'OFFENDER_ROOT',\n",
       " u'OFFENDER_RESIDENCE',\n",
       " u'INMATE_ACTIVE_OFFENSES_prpr',\n",
       " u'OFFENDER_ALIASES',\n",
       " u'INMATE_RELEASE_ROOT',\n",
       " u'INMATE_ACTIVE_INCARHIST',\n",
       " u'INMATE_ACTIVE_OFFENSES_CPS',\n",
       " u'CONTENTS',\n",
       " u'INMATE_RELEASE_ALIASES']"
      ]
     },
     "execution_count": 3,
     "metadata": {},
     "output_type": "execute_result"
    }
   ],
   "source": [
    "dfs.keys()"
   ]
  },
  {
   "cell_type": "markdown",
   "metadata": {},
   "source": [
    "### 5. Validation and Plotting"
   ]
  },
  {
   "cell_type": "code",
   "execution_count": 4,
   "metadata": {
    "collapsed": true
   },
   "outputs": [],
   "source": [
    "# http://www.dc.state.fl.us/pub/obis_request.html\n",
    "# http://cdn.static-economist.com/sites/default/files/images/print-edition/20161224_XMC337_0.png"
   ]
  },
  {
   "cell_type": "code",
   "execution_count": 5,
   "metadata": {
    "collapsed": false
   },
   "outputs": [
    {
     "data": {
      "text/plain": [
       "BURGUNOCCSTRUC/CV OR ATT.         180203\n",
       "GRAND THEFT,300 L/5,000           147697\n",
       "COCAINE - POSSESSION              138172\n",
       "BURG/DWELL/OCCUP.CONVEY           136860\n",
       "COCAINE-SALE/MANUF/DELIV.         105940\n",
       "TRAFFIC IN STOLEN PROPERTY         83255\n",
       "GRAND THEFT MOTOR VEHICLE          77736\n",
       "ROBB. GUN OR DEADLY WPN            74058\n",
       "GRAND THEFT,$300 LESS &20,000      54426\n",
       "UTTER FORGED INSTRUMENT            52399\n",
       "ROBB. NO GUN/DDLY.WPN              51315\n",
       "DRIV W/LIC S/R/C/D FELONY          47592\n",
       "AGG ASSLT-W/WPN NO INTENT TO K     38319\n",
       "POSS.CONTROL.SUBS/OTHER            36465\n",
       "FEL/DELI W/GUN/CONC WPN/AMMO       36280\n",
       "COCAINE-SALE OR PURCHASE           33639\n",
       "FORGERY/UTTERING                   33488\n",
       "BATT.LEO/FIRFGT/EMS/ETC.           32405\n",
       "RESISTING OFFICER W/VIOLEN.        29939\n",
       "AGG BATTERY/W/DEADLY WEAPON        26567\n",
       "POSS PHOTO ETC CHILD SEX PERF      26269\n",
       "COCAINE-POSSESS                    26225\n",
       "PETIT THEFT/3RD CONVICTION         25178\n",
       "CONSTRUCTIVE POSSESSION            22778\n",
       "MARIJUANA-SALE/MANUF/DEL           21074\n",
       "FALS INF. TO PWNBRKR<$300          20581\n",
       "BURGLARY,ARMED W/EXP. OR WEAPO     20306\n",
       "UTTERING FORGERY                   18101\n",
       "L/L, INDEC.ASLT CHILD U/16         17664\n",
       "GRAND THEFT FIREARM                16243\n",
       "                                   ...  \n",
       "DISCRIMINATION PASSENGERS              1\n",
       "FALSE INV.DEFRAUD INSUR.               1\n",
       "FALSE PERSONAL ID INFO < $300          1\n",
       "EXTORT-THREAT ACCUSE PERS CRIM         1\n",
       "SELL EPHEDRINE/ETC.3RD OFF.            1\n",
       "DEL.FA PERSON PROHIB.POSS.             1\n",
       "SMD BATHSALT-DRUG 1K'HOUSING           1\n",
       "AGG.BATT. RYCE FAC. STAFF              1\n",
       "FALS.RPRT ELDER ABUSE                  1\n",
       "SELL/DIST CIGS NOT FOR US              1\n",
       "ATMPT.CAP.TRAFF-COC./HER.              1\n",
       "THEFT-STATE $$ U$300 3RD+CONV.         1\n",
       "SEX ASSLT-SODOMY-WOMAN-STGARM          1\n",
       "FAIL ALLOW PHOTO-CAR.CRIM.             1\n",
       "ELCTRCL.SUB.STA.METALS,THEFT           1\n",
       "PRAC.OPTOMETRY W/O LIC.                1\n",
       "THEFT VEHICLE BY BAILEE                1\n",
       "FALSE SELLING/BURIAL PLOTS             1\n",
       "STATED CHARGE NOT CLEAR                1\n",
       "FRAUD/FORGE ATV REG.DOCS.              1\n",
       "LARCENY FROM COIN MACHINE              1\n",
       "GRAND THEFT OF STOP SIGN               1\n",
       "DRUGS-OTHER                            1\n",
       "DISORDERLY CONDUCT                     1\n",
       "FRAUD-UNCLAIMD PROP.$10<50K            1\n",
       "USE PUB.TRANS.COMT.FLNY                1\n",
       "ILLEGAL RADIO TRANSMISSION             1\n",
       "DAMAGE PROPERTY-BUSINESS               1\n",
       "CAP. TRAFF-COC/HER. DEATH              1\n",
       "LIFE CARE DISMISS/DICHARGE             1\n",
       "Name: adjudicationcharge_descr, dtype: int64"
      ]
     },
     "execution_count": 5,
     "metadata": {},
     "output_type": "execute_result"
    }
   ],
   "source": [
    "crimes = pandas.concat((dfs[\"INMATE_ACTIVE_OFFENSES_prpr\"], dfs[\"INMATE_ACTIVE_OFFENSES_CPS\"], dfs[\"INMATE_RELEASE_OFFENSES_prpr\"], dfs[\"INMATE_RELEASE_OFFENSES_CPS\"]))\n",
    "descriptions = crimes.adjudicationcharge_descr[crimes.adjudicationcharge_descr != \"UNKNOWN\"]\n",
    "descriptions.value_counts()"
   ]
  },
  {
   "cell_type": "code",
   "execution_count": 6,
   "metadata": {
    "collapsed": false
   },
   "outputs": [
    {
     "name": "stdout",
     "output_type": "stream",
     "text": [
      "drugs: 430468\n",
      "assault: 189635\n",
      "murder: 0\n",
      "robbery: 140578\n",
      "theft: 720649\n"
     ]
    }
   ],
   "source": [
    "crime_types = {\n",
    "    \"drugs\": [\"DRUG\", \"COCAINE\", \"SUBS\", \"MARIJUANA\"],\n",
    "    \"theft\": [\"BURG\", \"THEFT\"],\n",
    "    \"robbery\": [\"ROBB\"],\n",
    "    \"assault\": [\"ASLT\", \"ASSLT\", \"BATT\"],\n",
    "    \"murder\": []\n",
    "}\n",
    "for category, keywords in crime_types.items():\n",
    "    num = 0\n",
    "    for word in keywords:\n",
    "        num += descriptions.str.contains(word).value_counts()[True]\n",
    "    print(\"{0}: {1}\".format(category, num))"
   ]
  },
  {
   "cell_type": "markdown",
   "metadata": {},
   "source": [
    "### 6. Cleaning Issues"
   ]
  }
 ],
 "metadata": {
  "kernelspec": {
   "display_name": "Python 2",
   "language": "python",
   "name": "python2"
  },
  "language_info": {
   "codemirror_mode": {
    "name": "ipython",
    "version": 2
   },
   "file_extension": ".py",
   "mimetype": "text/x-python",
   "name": "python",
   "nbconvert_exporter": "python",
   "pygments_lexer": "ipython2",
   "version": "2.7.6"
  }
 },
 "nbformat": 4,
 "nbformat_minor": 2
}
